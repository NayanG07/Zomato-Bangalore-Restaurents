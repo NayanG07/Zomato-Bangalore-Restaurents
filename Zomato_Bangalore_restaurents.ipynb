{
 "cells": [
  {
   "cell_type": "code",
   "execution_count": 1,
   "id": "a298787e",
   "metadata": {},
   "outputs": [],
   "source": [
    "#importing necessary Libraries\n",
    "import numpy as np\n",
    "import pandas as pd\n",
    "import matplotlib.pyplot as plt\n",
    "import seaborn as sns\n",
    "%matplotlib inline\n",
    "import warnings\n",
    "warnings.filterwarnings('ignore')"
   ]
  },
  {
   "cell_type": "code",
   "execution_count": 2,
   "id": "6500e94c",
   "metadata": {},
   "outputs": [],
   "source": [
    "#Loading Datast\n",
    "data = pd.read_csv('zomato.csv')"
   ]
  },
  {
   "cell_type": "code",
   "execution_count": 3,
   "id": "d75b8e0d",
   "metadata": {},
   "outputs": [
    {
     "data": {
      "text/html": [
       "<div>\n",
       "<style scoped>\n",
       "    .dataframe tbody tr th:only-of-type {\n",
       "        vertical-align: middle;\n",
       "    }\n",
       "\n",
       "    .dataframe tbody tr th {\n",
       "        vertical-align: top;\n",
       "    }\n",
       "\n",
       "    .dataframe thead th {\n",
       "        text-align: right;\n",
       "    }\n",
       "</style>\n",
       "<table border=\"1\" class=\"dataframe\">\n",
       "  <thead>\n",
       "    <tr style=\"text-align: right;\">\n",
       "      <th></th>\n",
       "      <th>url</th>\n",
       "      <th>address</th>\n",
       "      <th>name</th>\n",
       "      <th>online_order</th>\n",
       "      <th>book_table</th>\n",
       "      <th>rate</th>\n",
       "      <th>votes</th>\n",
       "      <th>phone</th>\n",
       "      <th>location</th>\n",
       "      <th>rest_type</th>\n",
       "      <th>dish_liked</th>\n",
       "      <th>cuisines</th>\n",
       "      <th>approx_cost(for two people)</th>\n",
       "      <th>reviews_list</th>\n",
       "      <th>menu_item</th>\n",
       "      <th>listed_in(type)</th>\n",
       "      <th>listed_in(city)</th>\n",
       "    </tr>\n",
       "  </thead>\n",
       "  <tbody>\n",
       "    <tr>\n",
       "      <th>0</th>\n",
       "      <td>https://www.zomato.com/bangalore/jalsa-banasha...</td>\n",
       "      <td>942, 21st Main Road, 2nd Stage, Banashankari, ...</td>\n",
       "      <td>Jalsa</td>\n",
       "      <td>Yes</td>\n",
       "      <td>Yes</td>\n",
       "      <td>4.1/5</td>\n",
       "      <td>775</td>\n",
       "      <td>080 42297555\\r\\n+91 9743772233</td>\n",
       "      <td>Banashankari</td>\n",
       "      <td>Casual Dining</td>\n",
       "      <td>Pasta, Lunch Buffet, Masala Papad, Paneer Laja...</td>\n",
       "      <td>North Indian, Mughlai, Chinese</td>\n",
       "      <td>800</td>\n",
       "      <td>[('Rated 4.0', 'RATED\\n  A beautiful place to ...</td>\n",
       "      <td>[]</td>\n",
       "      <td>Buffet</td>\n",
       "      <td>Banashankari</td>\n",
       "    </tr>\n",
       "    <tr>\n",
       "      <th>1</th>\n",
       "      <td>https://www.zomato.com/bangalore/spice-elephan...</td>\n",
       "      <td>2nd Floor, 80 Feet Road, Near Big Bazaar, 6th ...</td>\n",
       "      <td>Spice Elephant</td>\n",
       "      <td>Yes</td>\n",
       "      <td>No</td>\n",
       "      <td>4.1/5</td>\n",
       "      <td>787</td>\n",
       "      <td>080 41714161</td>\n",
       "      <td>Banashankari</td>\n",
       "      <td>Casual Dining</td>\n",
       "      <td>Momos, Lunch Buffet, Chocolate Nirvana, Thai G...</td>\n",
       "      <td>Chinese, North Indian, Thai</td>\n",
       "      <td>800</td>\n",
       "      <td>[('Rated 4.0', 'RATED\\n  Had been here for din...</td>\n",
       "      <td>[]</td>\n",
       "      <td>Buffet</td>\n",
       "      <td>Banashankari</td>\n",
       "    </tr>\n",
       "  </tbody>\n",
       "</table>\n",
       "</div>"
      ],
      "text/plain": [
       "                                                 url  \\\n",
       "0  https://www.zomato.com/bangalore/jalsa-banasha...   \n",
       "1  https://www.zomato.com/bangalore/spice-elephan...   \n",
       "\n",
       "                                             address            name  \\\n",
       "0  942, 21st Main Road, 2nd Stage, Banashankari, ...           Jalsa   \n",
       "1  2nd Floor, 80 Feet Road, Near Big Bazaar, 6th ...  Spice Elephant   \n",
       "\n",
       "  online_order book_table   rate  votes                           phone  \\\n",
       "0          Yes        Yes  4.1/5    775  080 42297555\\r\\n+91 9743772233   \n",
       "1          Yes         No  4.1/5    787                    080 41714161   \n",
       "\n",
       "       location      rest_type  \\\n",
       "0  Banashankari  Casual Dining   \n",
       "1  Banashankari  Casual Dining   \n",
       "\n",
       "                                          dish_liked  \\\n",
       "0  Pasta, Lunch Buffet, Masala Papad, Paneer Laja...   \n",
       "1  Momos, Lunch Buffet, Chocolate Nirvana, Thai G...   \n",
       "\n",
       "                         cuisines approx_cost(for two people)  \\\n",
       "0  North Indian, Mughlai, Chinese                         800   \n",
       "1     Chinese, North Indian, Thai                         800   \n",
       "\n",
       "                                        reviews_list menu_item  \\\n",
       "0  [('Rated 4.0', 'RATED\\n  A beautiful place to ...        []   \n",
       "1  [('Rated 4.0', 'RATED\\n  Had been here for din...        []   \n",
       "\n",
       "  listed_in(type) listed_in(city)  \n",
       "0          Buffet    Banashankari  \n",
       "1          Buffet    Banashankari  "
      ]
     },
     "execution_count": 3,
     "metadata": {},
     "output_type": "execute_result"
    }
   ],
   "source": [
    "data.head(2) #prints the first 2 rows of Dataset"
   ]
  },
  {
   "cell_type": "code",
   "execution_count": 4,
   "id": "e5342a62",
   "metadata": {},
   "outputs": [
    {
     "data": {
      "text/plain": [
       "'https://www.zomato.com/bangalore/jalsa-banashankari?context=eyJzZSI6eyJlIjpbNTg2OTQsIjE4Mzc1NDc0IiwiNTkwOTAiLCIxODM4Mjk0NCIsIjE4MjI0Njc2IiwiNTkyODkiLCIxODM3MzM4NiJdLCJ0IjoiUmVzdGF1cmFudHMgaW4gQmFuYXNoYW5rYXJpIHNlcnZpbmcgQnVmZmV0In19'"
      ]
     },
     "execution_count": 4,
     "metadata": {},
     "output_type": "execute_result"
    }
   ],
   "source": [
    "data['url'][0] #checking the first URL in dataset"
   ]
  },
  {
   "cell_type": "code",
   "execution_count": 5,
   "id": "50cc36e9",
   "metadata": {},
   "outputs": [
    {
     "name": "stdout",
     "output_type": "stream",
     "text": [
      "<class 'pandas.core.frame.DataFrame'>\n",
      "RangeIndex: 51717 entries, 0 to 51716\n",
      "Data columns (total 17 columns):\n",
      " #   Column                       Non-Null Count  Dtype \n",
      "---  ------                       --------------  ----- \n",
      " 0   url                          51717 non-null  object\n",
      " 1   address                      51717 non-null  object\n",
      " 2   name                         51717 non-null  object\n",
      " 3   online_order                 51717 non-null  object\n",
      " 4   book_table                   51717 non-null  object\n",
      " 5   rate                         43942 non-null  object\n",
      " 6   votes                        51717 non-null  int64 \n",
      " 7   phone                        50509 non-null  object\n",
      " 8   location                     51696 non-null  object\n",
      " 9   rest_type                    51490 non-null  object\n",
      " 10  dish_liked                   23639 non-null  object\n",
      " 11  cuisines                     51672 non-null  object\n",
      " 12  approx_cost(for two people)  51371 non-null  object\n",
      " 13  reviews_list                 51717 non-null  object\n",
      " 14  menu_item                    51717 non-null  object\n",
      " 15  listed_in(type)              51717 non-null  object\n",
      " 16  listed_in(city)              51717 non-null  object\n",
      "dtypes: int64(1), object(16)\n",
      "memory usage: 6.7+ MB\n"
     ]
    }
   ],
   "source": [
    "# Looking at the information about the dataset, datatypes of the coresponding columns and missing values\n",
    "data.info()"
   ]
  },
  {
   "cell_type": "code",
   "execution_count": 6,
   "id": "24428a5f",
   "metadata": {},
   "outputs": [
    {
     "data": {
      "text/plain": [
       "Index(['url', 'address', 'name', 'online_order', 'book_table', 'rate', 'votes',\n",
       "       'phone', 'location', 'rest_type', 'dish_liked', 'cuisines',\n",
       "       'approx_cost(for two people)', 'reviews_list', 'menu_item',\n",
       "       'listed_in(type)', 'listed_in(city)'],\n",
       "      dtype='object')"
      ]
     },
     "execution_count": 6,
     "metadata": {},
     "output_type": "execute_result"
    }
   ],
   "source": [
    "#getting columns names of Dataset\n",
    "data.columns"
   ]
  },
  {
   "cell_type": "code",
   "execution_count": 7,
   "id": "eddaab80",
   "metadata": {},
   "outputs": [
    {
     "data": {
      "text/plain": [
       "url                                0\n",
       "address                            0\n",
       "name                               0\n",
       "online_order                       0\n",
       "book_table                         0\n",
       "rate                            7775\n",
       "votes                              0\n",
       "phone                           1208\n",
       "location                          21\n",
       "rest_type                        227\n",
       "dish_liked                     28078\n",
       "cuisines                          45\n",
       "approx_cost(for two people)      346\n",
       "reviews_list                       0\n",
       "menu_item                          0\n",
       "listed_in(type)                    0\n",
       "listed_in(city)                    0\n",
       "dtype: int64"
      ]
     },
     "execution_count": 7,
     "metadata": {},
     "output_type": "execute_result"
    }
   ],
   "source": [
    "#checking the null values in Dataset\n",
    "data.isna().sum()"
   ]
  },
  {
   "cell_type": "code",
   "execution_count": 8,
   "id": "fc18cba2",
   "metadata": {},
   "outputs": [
    {
     "data": {
      "text/plain": [
       "array(['Banashankari', 'Bannerghatta Road', 'Basavanagudi', 'Bellandur',\n",
       "       'Brigade Road', 'Brookefield', 'BTM', 'Church Street',\n",
       "       'Electronic City', 'Frazer Town', 'HSR', 'Indiranagar',\n",
       "       'Jayanagar', 'JP Nagar', 'Kalyan Nagar', 'Kammanahalli',\n",
       "       'Koramangala 4th Block', 'Koramangala 5th Block',\n",
       "       'Koramangala 6th Block', 'Koramangala 7th Block', 'Lavelle Road',\n",
       "       'Malleshwaram', 'Marathahalli', 'MG Road', 'New BEL Road',\n",
       "       'Old Airport Road', 'Rajajinagar', 'Residency Road',\n",
       "       'Sarjapur Road', 'Whitefield'], dtype=object)"
      ]
     },
     "execution_count": 8,
     "metadata": {},
     "output_type": "execute_result"
    }
   ],
   "source": [
    "data['listed_in(city)'].unique()"
   ]
  },
  {
   "cell_type": "code",
   "execution_count": 9,
   "id": "dc5312b0",
   "metadata": {},
   "outputs": [
    {
     "data": {
      "text/plain": [
       "array(['Banashankari', 'Basavanagudi', 'Mysore Road', 'Jayanagar',\n",
       "       'Kumaraswamy Layout', 'Rajarajeshwari Nagar', 'Vijay Nagar',\n",
       "       'Uttarahalli', 'JP Nagar', 'South Bangalore', 'City Market',\n",
       "       'Nagarbhavi', 'Bannerghatta Road', 'BTM', 'Kanakapura Road',\n",
       "       'Bommanahalli', nan, 'CV Raman Nagar', 'Electronic City', 'HSR',\n",
       "       'Marathahalli', 'Sarjapur Road', 'Wilson Garden', 'Shanti Nagar',\n",
       "       'Koramangala 5th Block', 'Koramangala 8th Block', 'Richmond Road',\n",
       "       'Koramangala 7th Block', 'Jalahalli', 'Koramangala 4th Block',\n",
       "       'Bellandur', 'Whitefield', 'East Bangalore', 'Old Airport Road',\n",
       "       'Indiranagar', 'Koramangala 1st Block', 'Frazer Town', 'RT Nagar',\n",
       "       'MG Road', 'Brigade Road', 'Lavelle Road', 'Church Street',\n",
       "       'Ulsoor', 'Residency Road', 'Shivajinagar', 'Infantry Road',\n",
       "       'St. Marks Road', 'Cunningham Road', 'Race Course Road',\n",
       "       'Commercial Street', 'Vasanth Nagar', 'HBR Layout', 'Domlur',\n",
       "       'Ejipura', 'Jeevan Bhima Nagar', 'Old Madras Road', 'Malleshwaram',\n",
       "       'Seshadripuram', 'Kammanahalli', 'Koramangala 6th Block',\n",
       "       'Majestic', 'Langford Town', 'Central Bangalore', 'Sanjay Nagar',\n",
       "       'Brookefield', 'ITPL Main Road, Whitefield',\n",
       "       'Varthur Main Road, Whitefield', 'KR Puram',\n",
       "       'Koramangala 2nd Block', 'Koramangala 3rd Block', 'Koramangala',\n",
       "       'Hosur Road', 'Rajajinagar', 'Banaswadi', 'North Bangalore',\n",
       "       'Nagawara', 'Hennur', 'Kalyan Nagar', 'New BEL Road', 'Jakkur',\n",
       "       'Rammurthy Nagar', 'Thippasandra', 'Kaggadasapura', 'Hebbal',\n",
       "       'Kengeri', 'Sankey Road', 'Sadashiv Nagar', 'Basaveshwara Nagar',\n",
       "       'Yeshwantpur', 'West Bangalore', 'Magadi Road', 'Yelahanka',\n",
       "       'Sahakara Nagar', 'Peenya'], dtype=object)"
      ]
     },
     "execution_count": 9,
     "metadata": {},
     "output_type": "execute_result"
    }
   ],
   "source": [
    "data['location'].unique()"
   ]
  },
  {
   "cell_type": "markdown",
   "id": "9aa12dea",
   "metadata": {},
   "source": [
    "As we can observe the 'location' field offers more precise location as compared to the column 'listed_in(city)' column, we will use the 'location' column."
   ]
  },
  {
   "cell_type": "code",
   "execution_count": 10,
   "id": "bc9bb715",
   "metadata": {},
   "outputs": [],
   "source": [
    "data.drop(['url','address','phone','listed_in(city)'],axis=1,inplace=True)"
   ]
  },
  {
   "cell_type": "code",
   "execution_count": 11,
   "id": "f70f37c2",
   "metadata": {},
   "outputs": [],
   "source": [
    "def missing_values(data,thresh=20, color='black' , edgecolor = 'black' ,height=3 ,width = 15):\n",
    "    \n",
    "    plt.figure(figsize=(width , height))\n",
    "    percentage = (data.isna().mean())*100\n",
    "    percentage.sort_values(ascending=False).plot.bar(color=color , edgecolor=edgecolor)\n",
    "    plt.axhline(y=thresh ,color='r', linestyle='-')\n",
    "    \n",
    "    plt.title('missing values percentage per column' , fontsize=20 , weight = 'bold')\n",
    "    plt.text(7 ,thresh+ 12.5,f'Columns with more than {thresh}% missing values ' , fontsize=12 , color='crimson' , ha='left', va='top')\n",
    "    plt.text(7 ,thresh- 5,f'Columns with less than {thresh}% missing values ' , fontsize=12 , color='green' , ha='left', va='top')\n",
    "    plt.xlabel('Columns', size = 15, weight = 'bold')\n",
    "    plt.ylabel('Missing values percentage')\n",
    "    plt.yticks(weight = 'bold')\n",
    "    \n",
    "    return plt.show()"
   ]
  },
  {
   "cell_type": "code",
   "execution_count": 12,
   "id": "a228d094",
   "metadata": {},
   "outputs": [
    {
     "data": {
      "image/png": "[encoded data removed]",
      "text/plain": [
       "<Figure size 1080x216 with 1 Axes>"
      ]
     },
     "metadata": {
      "needs_background": "light"
     },
     "output_type": "display_data"
    }
   ],
   "source": [
    "missing_values(data ,thresh=20, color = sns.color_palette('Reds',15))"
   ]
  },
  {
   "cell_type": "markdown",
   "id": "b087a5c0",
   "metadata": {},
   "source": [
    "We will remove dish_liked columns as it has more than 50% null values"
   ]
  },
  {
   "cell_type": "code",
   "execution_count": 13,
   "id": "499821e2",
   "metadata": {},
   "outputs": [],
   "source": [
    "data.drop(columns='dish_liked',axis=1 ,inplace=True)"
   ]
  },
  {
   "cell_type": "code",
   "execution_count": 14,
   "id": "1a8f1f16",
   "metadata": {},
   "outputs": [
    {
     "data": {
      "image/png": "[encoded data removed]",
      "text/plain": [
       "<Figure size 1080x216 with 1 Axes>"
      ]
     },
     "metadata": {
      "needs_background": "light"
     },
     "output_type": "display_data"
    }
   ],
   "source": [
    "missing_values(data ,thresh=20, color = sns.color_palette('Reds',15))"
   ]
  },
  {
   "cell_type": "markdown",
   "id": "2d66ebd0",
   "metadata": {},
   "source": [
    "For the null values present in the 'rate' column, we will replace them with the mode of the 'rate' column. We can not remove this column, because we won't have any dependent column left with us once we remove it."
   ]
  },
  {
   "cell_type": "code",
   "execution_count": 15,
   "id": "48e67e76",
   "metadata": {},
   "outputs": [],
   "source": [
    "data['rate'] = data['rate'].fillna(data['rate'].mode()[0])"
   ]
  },
  {
   "cell_type": "code",
   "execution_count": 16,
   "id": "108ff4a2",
   "metadata": {},
   "outputs": [
    {
     "data": {
      "image/png": "[encoded data removed]",
      "text/plain": [
       "<Figure size 1080x216 with 1 Axes>"
      ]
     },
     "metadata": {
      "needs_background": "light"
     },
     "output_type": "display_data"
    }
   ],
   "source": [
    "missing_values(data ,thresh=20, color = sns.color_palette('Reds',15))"
   ]
  },
  {
   "cell_type": "markdown",
   "id": "0b77f568",
   "metadata": {},
   "source": [
    "We will remove the rows having null values for the above column"
   ]
  },
  {
   "cell_type": "code",
   "execution_count": 17,
   "id": "9ba968a7",
   "metadata": {},
   "outputs": [],
   "source": [
    "previous_data = data\n",
    "data.dropna(inplace=True)"
   ]
  },
  {
   "cell_type": "code",
   "execution_count": 18,
   "id": "80f302cf",
   "metadata": {},
   "outputs": [
    {
     "data": {
      "image/png": "[encoded data removed]",
      "text/plain": [
       "<Figure size 1080x216 with 1 Axes>"
      ]
     },
     "metadata": {
      "needs_background": "light"
     },
     "output_type": "display_data"
    }
   ],
   "source": [
    "missing_values(data ,thresh=20, color = sns.color_palette('Reds',15))"
   ]
  },
  {
   "cell_type": "code",
   "execution_count": 19,
   "id": "ab1f4d2e",
   "metadata": {},
   "outputs": [
    {
     "data": {
      "text/plain": [
       "0"
      ]
     },
     "execution_count": 19,
     "metadata": {},
     "output_type": "execute_result"
    }
   ],
   "source": [
    "data.isna().sum().sum()"
   ]
  },
  {
   "cell_type": "code",
   "execution_count": 20,
   "id": "c7ad0b29",
   "metadata": {},
   "outputs": [
    {
     "data": {
      "text/plain": [
       "(51148, 12)"
      ]
     },
     "execution_count": 20,
     "metadata": {},
     "output_type": "execute_result"
    }
   ],
   "source": [
    "data.shape"
   ]
  },
  {
   "cell_type": "markdown",
   "id": "07f7d872",
   "metadata": {},
   "source": [
    "# Rating Distribution"
   ]
  },
  {
   "cell_type": "code",
   "execution_count": 21,
   "id": "22dc2b42",
   "metadata": {},
   "outputs": [
    {
     "data": {
      "text/plain": [
       "NEW       9820\n",
       "3.9/5     2091\n",
       "3.7/5     2008\n",
       "3.8/5     1999\n",
       "3.9 /5    1867\n",
       "          ... \n",
       "2.2 /5       7\n",
       "2.0 /5       7\n",
       "2.0/5        4\n",
       "1.8 /5       3\n",
       "1.8/5        2\n",
       "Name: rate, Length: 64, dtype: int64"
      ]
     },
     "execution_count": 21,
     "metadata": {},
     "output_type": "execute_result"
    }
   ],
   "source": [
    "data['rate'].value_counts()"
   ]
  },
  {
   "cell_type": "code",
   "execution_count": 22,
   "id": "9380c15c",
   "metadata": {},
   "outputs": [
    {
     "name": "stdout",
     "output_type": "stream",
     "text": [
      "rate column type:  <class 'str'>\n"
     ]
    }
   ],
   "source": [
    "print(\"rate column type: \", type(data['rate'][0]))"
   ]
  },
  {
   "cell_type": "markdown",
   "id": "c4d0bbb3",
   "metadata": {},
   "source": [
    "We can see a category named 'new' which indicates that the restaurant is fairly new, hence we will replace the value 'new' with '2.5' as it can be mode as well as bad..we don't know that yet. Please note we will replace with '2.5 /5' for maintaing uniform format."
   ]
  },
  {
   "cell_type": "code",
   "execution_count": 23,
   "id": "1182c70d",
   "metadata": {},
   "outputs": [
    {
     "data": {
      "text/plain": [
       "array(['4.1/5', '3.8/5', '3.7/5', '3.6/5', '4.6/5', '4.0/5', '4.2/5',\n",
       "       '3.9/5', '3.1/5', '3.0/5', '3.2/5', '3.3/5', '2.8/5', '4.4/5',\n",
       "       '4.3/5', '2.5/5', '2.9/5', '3.5/5', '2.6/5', '3.8 /5', '3.4/5',\n",
       "       '4.5/5', '2.7/5', '4.7/5', '2.4/5', '2.2/5', '2.3/5', '3.4 /5',\n",
       "       '-', '3.6 /5', '4.8/5', '3.9 /5', '4.2 /5', '4.0 /5', '4.1 /5',\n",
       "       '3.7 /5', '3.1 /5', '2.9 /5', '3.3 /5', '2.8 /5', '3.5 /5',\n",
       "       '2.7 /5', '2.5 /5', '3.2 /5', '2.6 /5', '4.5 /5', '4.3 /5',\n",
       "       '4.4 /5', '4.9/5', '2.1/5', '2.0/5', '1.8/5', '4.6 /5', '4.9 /5',\n",
       "       '3.0 /5', '4.8 /5', '2.3 /5', '4.7 /5', '2.4 /5', '2.1 /5',\n",
       "       '2.2 /5', '2.0 /5', '1.8 /5'], dtype=object)"
      ]
     },
     "execution_count": 23,
     "metadata": {},
     "output_type": "execute_result"
    }
   ],
   "source": [
    "data['rate'].replace({\"NEW\" : \"2.5/5\"},inplace=True)\n",
    "data['rate'].unique()"
   ]
  },
  {
   "cell_type": "code",
   "execution_count": 24,
   "id": "62ad9347",
   "metadata": {},
   "outputs": [
    {
     "data": {
      "text/plain": [
       "array(['4.1/5', '3.8/5', '3.7/5', '3.6/5', '4.6/5', '4.0/5', '4.2/5',\n",
       "       '3.9/5', '3.1/5', '3.0/5', '3.2/5', '3.3/5', '2.8/5', '4.4/5',\n",
       "       '4.3/5', '2.5/5', '2.9/5', '3.5/5', '2.6/5', '3.8 /5', '3.4/5',\n",
       "       '4.5/5', '2.7/5', '4.7/5', '2.4/5', '2.2/5', '2.3/5', '3.4 /5',\n",
       "       '3.6 /5', '4.8/5', '3.9 /5', '4.2 /5', '4.0 /5', '4.1 /5',\n",
       "       '3.7 /5', '3.1 /5', '2.9 /5', '3.3 /5', '2.8 /5', '3.5 /5',\n",
       "       '2.7 /5', '2.5 /5', '3.2 /5', '2.6 /5', '4.5 /5', '4.3 /5',\n",
       "       '4.4 /5', '4.9/5', '2.1/5', '2.0/5', '1.8/5', '4.6 /5', '4.9 /5',\n",
       "       '3.0 /5', '4.8 /5', '2.3 /5', '4.7 /5', '2.4 /5', '2.1 /5',\n",
       "       '2.2 /5', '2.0 /5', '1.8 /5'], dtype=object)"
      ]
     },
     "execution_count": 24,
     "metadata": {},
     "output_type": "execute_result"
    }
   ],
   "source": [
    "a = data.loc[data['rate']=='-'].index\n",
    "data.drop(a , axis=0 , inplace=True)\n",
    "\n",
    "data['rate'].unique()"
   ]
  },
  {
   "cell_type": "markdown",
   "id": "c5116fd6",
   "metadata": {},
   "source": [
    "The problem is that the given scores are out of 5 and that the data type is string. So first we will need to store only the scores and then convert into float datatype."
   ]
  },
  {
   "cell_type": "code",
   "execution_count": 25,
   "id": "709f90d0",
   "metadata": {},
   "outputs": [
    {
     "name": "stdout",
     "output_type": "stream",
     "text": [
      "rate column type:  <class 'str'>\n"
     ]
    }
   ],
   "source": [
    "print(\"rate column type: \", type(data['rate'][0]))"
   ]
  },
  {
   "cell_type": "code",
   "execution_count": 26,
   "id": "2f413eb1",
   "metadata": {},
   "outputs": [
    {
     "data": {
      "text/plain": [
       "array(['4.1', '3.8', '3.7', '3.6', '4.6', '4.0', '4.2', '3.9', '3.1',\n",
       "       '3.0', '3.2', '3.3', '2.8', '4.4', '4.3', '2.5', '2.9', '3.5',\n",
       "       '2.6', '3.8 ', '3.4', '4.5', '2.7', '4.7', '2.4', '2.2', '2.3',\n",
       "       '3.4 ', '3.6 ', '4.8', '3.9 ', '4.2 ', '4.0 ', '4.1 ', '3.7 ',\n",
       "       '3.1 ', '2.9 ', '3.3 ', '2.8 ', '3.5 ', '2.7 ', '2.5 ', '3.2 ',\n",
       "       '2.6 ', '4.5 ', '4.3 ', '4.4 ', '4.9', '2.1', '2.0', '1.8', '4.6 ',\n",
       "       '4.9 ', '3.0 ', '4.8 ', '2.3 ', '4.7 ', '2.4 ', '2.1 ', '2.2 ',\n",
       "       '2.0 ', '1.8 '], dtype=object)"
      ]
     },
     "execution_count": 26,
     "metadata": {},
     "output_type": "execute_result"
    }
   ],
   "source": [
    "data['rate'] = data['rate'].apply(lambda x : x.split('/')[0])\n",
    "data['rate'].unique()"
   ]
  },
  {
   "cell_type": "code",
   "execution_count": 27,
   "id": "46aa2d01",
   "metadata": {},
   "outputs": [
    {
     "data": {
      "text/plain": [
       "array(['4.1', '3.8', '3.7', '3.6', '4.6', '4.0', '4.2', '3.9', '3.1',\n",
       "       '3.0', '3.2', '3.3', '2.8', '4.4', '4.3', '2.5', '2.9', '3.5',\n",
       "       '2.6', '3.4', '4.5', '2.7', '4.7', '2.4', '2.2', '2.3', '4.8',\n",
       "       '4.9', '2.1', '2.0', '1.8'], dtype=object)"
      ]
     },
     "execution_count": 27,
     "metadata": {},
     "output_type": "execute_result"
    }
   ],
   "source": [
    "data['rate'] = data['rate'].apply(lambda x: x.split(\" \")[0])\n",
    "data['rate'].unique()"
   ]
  },
  {
   "cell_type": "code",
   "execution_count": 28,
   "id": "5446fee4",
   "metadata": {},
   "outputs": [
    {
     "name": "stdout",
     "output_type": "stream",
     "text": [
      "float64\n"
     ]
    }
   ],
   "source": [
    "data = data.astype({'rate': float})\n",
    "print(data['rate'].dtype)"
   ]
  },
  {
   "cell_type": "markdown",
   "id": "e8e1967e",
   "metadata": {},
   "source": [
    "We have successfully converted the 'rate' column values to float."
   ]
  },
  {
   "cell_type": "code",
   "execution_count": 29,
   "id": "03f69981",
   "metadata": {},
   "outputs": [
    {
     "data": {
      "image/png": "[encoded data removed]",
      "text/plain": [
       "<Figure size 432x288 with 1 Axes>"
      ]
     },
     "metadata": {
      "needs_background": "light"
     },
     "output_type": "display_data"
    }
   ],
   "source": [
    "sns.distplot(data['rate'], color='r')\n",
    "plt.show()"
   ]
  },
  {
   "cell_type": "markdown",
   "id": "701d180e",
   "metadata": {},
   "source": [
    "As we know before '2.5' represents the 'NEW' restaurants, and there were about 9800 restaurants that were NEW, that's why the above distribution is multi-modal. If we ignore the 'NEW' Restaurants we can observe that the graph resembles bell-shape i.e it's normally distributed."
   ]
  },
  {
   "cell_type": "code",
   "execution_count": 30,
   "id": "6cf80e48",
   "metadata": {},
   "outputs": [
    {
     "data": {
      "image/png": "[encoded data removed]",
      "text/plain": [
       "<Figure size 576x576 with 1 Axes>"
      ]
     },
     "metadata": {
      "needs_background": "light"
     },
     "output_type": "display_data"
    }
   ],
   "source": [
    "plt.figure(figsize=(8,8))\n",
    "sns.countplot(data['rate'],color='r')\n",
    "plt.show()"
   ]
  },
  {
   "cell_type": "markdown",
   "id": "dc300610",
   "metadata": {},
   "source": [
    "Maximum of the restaurants are pretty NEW. Apart from the recently opened restaurants, most of the Restaurants received 3.9 rating, followed by 3.7 and 3.8. Only a few restaurants have 4.8 or 4.9 rating. Let's see which are these restaurants."
   ]
  },
  {
   "cell_type": "code",
   "execution_count": 31,
   "id": "ecb0cea6",
   "metadata": {},
   "outputs": [
    {
     "name": "stdout",
     "output_type": "stream",
     "text": [
      "Restorents having hight rtings : \n",
      " [\"Brahmin's Coffee Bar\" 'The Black Pearl' 'Byg Brewski Brewing Company'\n",
      " 'Belgian Waffle Factory' \"AB's - Absolute Barbecues\" 'Flechazo'\n",
      " 'Punjab Grill' 'Asia Kitchen By Mainland China' 'House Of Commons'\n",
      " 'The Pizza Bakery' 'Milano Ice Cream' 'Barbeque Nation' 'Biergarten'\n",
      " \"Chili's American Grill & Bar\" 'O.G. Variar & Sons' 'The Globe Grub'\n",
      " 'The Boozy Griffin'\n",
      " 'SantÃ\\x83Â\\x83Ã\\x82Â\\x83Ã\\x83Â\\x82Ã\\x82Â\\x83Ã\\x83Â\\x83Ã\\x82Â\\x82Ã\\x83Â\\x82Ã\\x82Â\\x83Ã\\x83Â\\x83Ã\\x82Â\\x83Ã\\x83Â\\x82Ã\\x82Â\\x82Ã\\x83Â\\x83Ã\\x82Â\\x82Ã\\x83Â\\x82Ã\\x82Â© Spa Cuisine'\n",
      " 'CTR' 'Barbecue by Punjab Grill']\n"
     ]
    }
   ],
   "source": [
    "print(\"Restorents having hight rtings : \\n\", data.loc[(data['rate']==4.8 )| (data['rate'] == 4.9)]['name'].unique())"
   ]
  },
  {
   "cell_type": "markdown",
   "id": "4a22a8dd",
   "metadata": {},
   "source": [
    "As expected, these are restaurant chains that are present all around the globe. These restaurants are pretty amazing that's why they have the highest rating.\n",
    "\n",
    "Note: The one restaurant having such a large name must have been parsed incorrectly by the creator."
   ]
  },
  {
   "cell_type": "markdown",
   "id": "908c4a81",
   "metadata": {},
   "source": [
    "# Name"
   ]
  },
  {
   "cell_type": "markdown",
   "id": "ad555af2",
   "metadata": {},
   "source": [
    "The same restaurant chain can be present at different location. Let's first check the number of unique restaurant present in the city."
   ]
  },
  {
   "cell_type": "code",
   "execution_count": 32,
   "id": "fcb61878",
   "metadata": {},
   "outputs": [
    {
     "name": "stdout",
     "output_type": "stream",
     "text": [
      "Total number of restorents in Bengaluru is :  8720\n"
     ]
    }
   ],
   "source": [
    "print(\"Total number of restorents in Bengaluru is : \", len(data['name'].unique()))"
   ]
  },
  {
   "cell_type": "markdown",
   "id": "ccaf5f13",
   "metadata": {},
   "source": [
    "Let's see which restaurant have the highest number of outlets across the city."
   ]
  },
  {
   "cell_type": "code",
   "execution_count": 33,
   "id": "97e40831",
   "metadata": {},
   "outputs": [
    {
     "data": {
      "image/png": "[encoded data removed]",
      "text/plain": [
       "<Figure size 432x432 with 1 Axes>"
      ]
     },
     "metadata": {
      "needs_background": "light"
     },
     "output_type": "display_data"
    }
   ],
   "source": [
    "plt.figure(figsize=(6,6))\n",
    "index = data['name'].value_counts().head(10).index\n",
    "values = data['name'].value_counts().head(10).values\n",
    "sns.barplot(x=index , y=values)\n",
    "plt.xticks(rotation = 90)\n",
    "plt.show()"
   ]
  },
  {
   "cell_type": "markdown",
   "id": "e3de3c62",
   "metadata": {},
   "source": [
    "Cafe Coffee Day(a coffee chain) had the maximum number of outlets. Sweet shops like Kanti sweet or pizza chains like Pizza Hut also have a lot of outlets across the city.\n",
    "\n",
    "Having a large number of outlets does not gurantee a higher rating. Let's see which restaurant chain have the highest rating grouping by their name"
   ]
  },
  {
   "cell_type": "code",
   "execution_count": 34,
   "id": "eea6c21c",
   "metadata": {},
   "outputs": [
    {
     "data": {
      "text/plain": [
       "name\n",
       "Byg Brewski Brewing Company                                                         4.900000\n",
       "Asia Kitchen By Mainland China                                                      4.900000\n",
       "SantÃÂÃÂÃÂÃÂÃÂÃÂÃÂÃÂÃÂÃÂÃÂÃÂÃÂÃÂÃÂÃÂ© Spa Cuisine    4.900000\n",
       "Punjab Grill                                                                        4.871429\n",
       "Belgian Waffle Factory                                                              4.844828\n",
       "O.G. Variar & Sons                                                                  4.800000\n",
       "Flechazo                                                                            4.800000\n",
       "The Pizza Bakery                                                                    4.800000\n",
       "AB's - Absolute Barbecues                                                           4.789474\n",
       "CTR                                                                                 4.750000\n",
       "Barbecue by Punjab Grill                                                            4.750000\n",
       "The Black Pearl                                                                     4.727778\n",
       "House Of Commons                                                                    4.723810\n",
       "Toit                                                                                4.700000\n",
       "You Mee                                                                             4.700000\n",
       "Name: rate, dtype: float64"
      ]
     },
     "execution_count": 34,
     "metadata": {},
     "output_type": "execute_result"
    }
   ],
   "source": [
    "data.groupby('name')['rate'].mean().sort_values(ascending=False).head(15)"
   ]
  },
  {
   "cell_type": "markdown",
   "id": "7a8fbe16",
   "metadata": {},
   "source": [
    "We can see that the top 15 restaurants by ratings are completely different from those which have the highest number of outlets"
   ]
  },
  {
   "cell_type": "code",
   "execution_count": 35,
   "id": "49e3600d",
   "metadata": {},
   "outputs": [
    {
     "data": {
      "text/html": [
       "<div>\n",
       "<style scoped>\n",
       "    .dataframe tbody tr th:only-of-type {\n",
       "        vertical-align: middle;\n",
       "    }\n",
       "\n",
       "    .dataframe tbody tr th {\n",
       "        vertical-align: top;\n",
       "    }\n",
       "\n",
       "    .dataframe thead th {\n",
       "        text-align: right;\n",
       "    }\n",
       "</style>\n",
       "<table border=\"1\" class=\"dataframe\">\n",
       "  <thead>\n",
       "    <tr style=\"text-align: right;\">\n",
       "      <th></th>\n",
       "      <th>votes</th>\n",
       "      <th>rate</th>\n",
       "    </tr>\n",
       "    <tr>\n",
       "      <th>name</th>\n",
       "      <th></th>\n",
       "      <th></th>\n",
       "    </tr>\n",
       "  </thead>\n",
       "  <tbody>\n",
       "    <tr>\n",
       "      <th>Byg Brewski Brewing Company</th>\n",
       "      <td>16832</td>\n",
       "      <td>4.9</td>\n",
       "    </tr>\n",
       "    <tr>\n",
       "      <th>Toit</th>\n",
       "      <td>14956</td>\n",
       "      <td>4.7</td>\n",
       "    </tr>\n",
       "    <tr>\n",
       "      <th>Truffles</th>\n",
       "      <td>14726</td>\n",
       "      <td>4.7</td>\n",
       "    </tr>\n",
       "    <tr>\n",
       "      <th>AB's - Absolute Barbecues</th>\n",
       "      <td>12121</td>\n",
       "      <td>4.9</td>\n",
       "    </tr>\n",
       "    <tr>\n",
       "      <th>The Black Pearl</th>\n",
       "      <td>10550</td>\n",
       "      <td>4.8</td>\n",
       "    </tr>\n",
       "    <tr>\n",
       "      <th>Big Pitcher</th>\n",
       "      <td>9300</td>\n",
       "      <td>4.7</td>\n",
       "    </tr>\n",
       "    <tr>\n",
       "      <th>Onesta</th>\n",
       "      <td>9085</td>\n",
       "      <td>4.6</td>\n",
       "    </tr>\n",
       "    <tr>\n",
       "      <th>Arbor Brewing Company</th>\n",
       "      <td>8419</td>\n",
       "      <td>4.5</td>\n",
       "    </tr>\n",
       "    <tr>\n",
       "      <th>Empire Restaurant</th>\n",
       "      <td>8304</td>\n",
       "      <td>4.4</td>\n",
       "    </tr>\n",
       "    <tr>\n",
       "      <th>Prost Brew Pub</th>\n",
       "      <td>7871</td>\n",
       "      <td>4.5</td>\n",
       "    </tr>\n",
       "    <tr>\n",
       "      <th>Church Street Social</th>\n",
       "      <td>7584</td>\n",
       "      <td>4.3</td>\n",
       "    </tr>\n",
       "    <tr>\n",
       "      <th>Hoot</th>\n",
       "      <td>7330</td>\n",
       "      <td>4.2</td>\n",
       "    </tr>\n",
       "    <tr>\n",
       "      <th>Barbeque Nation</th>\n",
       "      <td>7270</td>\n",
       "      <td>4.8</td>\n",
       "    </tr>\n",
       "    <tr>\n",
       "      <th>Meghana Foods</th>\n",
       "      <td>7238</td>\n",
       "      <td>4.5</td>\n",
       "    </tr>\n",
       "    <tr>\n",
       "      <th>Flechazo</th>\n",
       "      <td>7154</td>\n",
       "      <td>4.9</td>\n",
       "    </tr>\n",
       "  </tbody>\n",
       "</table>\n",
       "</div>"
      ],
      "text/plain": [
       "                             votes  rate\n",
       "name                                    \n",
       "Byg Brewski Brewing Company  16832   4.9\n",
       "Toit                         14956   4.7\n",
       "Truffles                     14726   4.7\n",
       "AB's - Absolute Barbecues    12121   4.9\n",
       "The Black Pearl              10550   4.8\n",
       "Big Pitcher                   9300   4.7\n",
       "Onesta                        9085   4.6\n",
       "Arbor Brewing Company         8419   4.5\n",
       "Empire Restaurant             8304   4.4\n",
       "Prost Brew Pub                7871   4.5\n",
       "Church Street Social          7584   4.3\n",
       "Hoot                          7330   4.2\n",
       "Barbeque Nation               7270   4.8\n",
       "Meghana Foods                 7238   4.5\n",
       "Flechazo                      7154   4.9"
      ]
     },
     "execution_count": 35,
     "metadata": {},
     "output_type": "execute_result"
    }
   ],
   "source": [
    "data.groupby('name')['votes','rate'].max().sort_values(ascending=False , by='votes').head(15)"
   ]
  },
  {
   "cell_type": "markdown",
   "id": "e62b55d0",
   "metadata": {},
   "source": [
    "Above are the 15 restaurants that have got the highest number of user votes. The ratings for these restaurants are also very high as expected. More votes most probably leads to better rating."
   ]
  },
  {
   "cell_type": "markdown",
   "id": "e2c8de83",
   "metadata": {},
   "source": [
    "# Online Order"
   ]
  },
  {
   "cell_type": "code",
   "execution_count": 36,
   "id": "f936fc2a",
   "metadata": {},
   "outputs": [
    {
     "data": {
      "text/plain": [
       "array(['Yes', 'No'], dtype=object)"
      ]
     },
     "execution_count": 36,
     "metadata": {},
     "output_type": "execute_result"
    }
   ],
   "source": [
    "data['online_order'].unique()"
   ]
  },
  {
   "cell_type": "code",
   "execution_count": 37,
   "id": "b220d9cc",
   "metadata": {},
   "outputs": [],
   "source": [
    "#converting into integers\n",
    "data['online_order'].replace({'Yes':1 ,'No':0}, inplace=True)"
   ]
  },
  {
   "cell_type": "code",
   "execution_count": 38,
   "id": "3da19ed1",
   "metadata": {},
   "outputs": [
    {
     "data": {
      "text/plain": [
       "array([1, 0], dtype=int64)"
      ]
     },
     "execution_count": 38,
     "metadata": {},
     "output_type": "execute_result"
    }
   ],
   "source": [
    "data['online_order'].unique()"
   ]
  },
  {
   "cell_type": "code",
   "execution_count": 39,
   "id": "dd1ea9ef",
   "metadata": {},
   "outputs": [
    {
     "data": {
      "image/png": "[encoded data removed]",
      "text/plain": [
       "<Figure size 360x360 with 1 Axes>"
      ]
     },
     "metadata": {
      "needs_background": "light"
     },
     "output_type": "display_data"
    }
   ],
   "source": [
    "plt.figure(figsize=(5,5))\n",
    "sns.countplot(data['online_order'])\n",
    "plt.show()"
   ]
  },
  {
   "cell_type": "code",
   "execution_count": 40,
   "id": "1322827d",
   "metadata": {},
   "outputs": [
    {
     "data": {
      "text/plain": [
       "<AxesSubplot:>"
      ]
     },
     "execution_count": 40,
     "metadata": {},
     "output_type": "execute_result"
    },
    {
     "data": {
      "image/png": "[encoded data removed]",
      "text/plain": [
       "<Figure size 432x288 with 2 Axes>"
      ]
     },
     "metadata": {
      "needs_background": "light"
     },
     "output_type": "display_data"
    }
   ],
   "source": [
    "correlation = data.corr()\n",
    "sns.heatmap(correlation , annot=True)"
   ]
  },
  {
   "cell_type": "markdown",
   "id": "756c0f67",
   "metadata": {},
   "source": [
    "Correlation of 'rating' with 'online_table' is 0.24."
   ]
  },
  {
   "cell_type": "code",
   "execution_count": 41,
   "id": "8c02be0f",
   "metadata": {},
   "outputs": [
    {
     "data": {
      "image/png": "[encoded data removed]",
      "text/plain": [
       "<Figure size 432x288 with 1 Axes>"
      ]
     },
     "metadata": {
      "needs_background": "light"
     },
     "output_type": "display_data"
    }
   ],
   "source": [
    "sns.boxplot(x='online_order' , y='rate',data=data)\n",
    "plt.show()"
   ]
  },
  {
   "cell_type": "markdown",
   "id": "50360b07",
   "metadata": {},
   "source": [
    "We can observe from the above plot that those restaurants which offer online order has a higher median rating as compared to those restaurants that don't.\n",
    "\n",
    "It makes sense also because Zomato offers home delivery for online orders also, so more people will give rating for online_order restaurants on their platform."
   ]
  },
  {
   "cell_type": "markdown",
   "id": "e1c8c817",
   "metadata": {},
   "source": [
    "# Book Table"
   ]
  },
  {
   "cell_type": "code",
   "execution_count": 42,
   "id": "b57f8073",
   "metadata": {},
   "outputs": [
    {
     "data": {
      "text/plain": [
       "array(['Yes', 'No'], dtype=object)"
      ]
     },
     "execution_count": 42,
     "metadata": {},
     "output_type": "execute_result"
    }
   ],
   "source": [
    "data['book_table'].unique()"
   ]
  },
  {
   "cell_type": "code",
   "execution_count": 43,
   "id": "d8ace7b1",
   "metadata": {},
   "outputs": [],
   "source": [
    "data['book_table'].replace({'Yes':1,'No':0}, inplace=True)"
   ]
  },
  {
   "cell_type": "code",
   "execution_count": 44,
   "id": "dba58c06",
   "metadata": {},
   "outputs": [
    {
     "data": {
      "text/plain": [
       "<AxesSubplot:>"
      ]
     },
     "execution_count": 44,
     "metadata": {},
     "output_type": "execute_result"
    },
    {
     "data": {
      "image/png": "[encoded data removed]",
      "text/plain": [
       "<Figure size 432x288 with 2 Axes>"
      ]
     },
     "metadata": {
      "needs_background": "light"
     },
     "output_type": "display_data"
    }
   ],
   "source": [
    "correlation= data.corr()\n",
    "sns.heatmap(correlation , annot=True)"
   ]
  },
  {
   "cell_type": "markdown",
   "id": "ecd3e6a0",
   "metadata": {},
   "source": [
    "Book_table has a correlation of 0.39 with the ratings given."
   ]
  },
  {
   "cell_type": "code",
   "execution_count": 45,
   "id": "68b4be78",
   "metadata": {},
   "outputs": [
    {
     "data": {
      "image/png": "[encoded data removed]",
      "text/plain": [
       "<Figure size 360x360 with 1 Axes>"
      ]
     },
     "metadata": {
      "needs_background": "light"
     },
     "output_type": "display_data"
    }
   ],
   "source": [
    "plt.figure(figsize=(5,5))\n",
    "sns.countplot(data['book_table'])\n",
    "plt.show()"
   ]
  },
  {
   "cell_type": "code",
   "execution_count": 46,
   "id": "bd0dc9fc",
   "metadata": {},
   "outputs": [
    {
     "data": {
      "image/png": "[encoded data removed]",
      "text/plain": [
       "<Figure size 432x288 with 1 Axes>"
      ]
     },
     "metadata": {
      "needs_background": "light"
     },
     "output_type": "display_data"
    }
   ],
   "source": [
    "sns.boxplot(x=data['book_table'] , y=data['rate'])\n",
    "plt.show()"
   ]
  },
  {
   "cell_type": "markdown",
   "id": "f5dee28c",
   "metadata": {},
   "source": [
    "Eventhough there are some outliers for the book_table class, we can see that the lower whisker of '1''s boxplots which represents the minimum rating of the restaurants that book table in advance, is greater than the 50th percentile value or the median of the ratings of the restaurants that don't book table in advance. \n",
    "\n",
    "\n",
    "Some restaurants that don't book table in advance also have ratings close to 5. The IQR for '1' boxplot is quite small which represents small variation of the ratings around median. Therefore, if the restaurants offer to book table in advance, more ratings are given."
   ]
  },
  {
   "cell_type": "markdown",
   "id": "0daf4f50",
   "metadata": {},
   "source": [
    "# Approx Cost"
   ]
  },
  {
   "cell_type": "code",
   "execution_count": 47,
   "id": "3193a663",
   "metadata": {},
   "outputs": [
    {
     "name": "stdout",
     "output_type": "stream",
     "text": [
      "Data type for Approc cost for two people is :  object\n"
     ]
    }
   ],
   "source": [
    "print(\"Data type for Approc cost for two people is : \", data['approx_cost(for two people)'].dtype)"
   ]
  },
  {
   "cell_type": "markdown",
   "id": "c948490a",
   "metadata": {},
   "source": [
    "We have to convert it into integer.\n",
    "\n",
    "There are values like '1,200' we need to first convert such strings to '1200' then to 1200."
   ]
  },
  {
   "cell_type": "code",
   "execution_count": 48,
   "id": "d1e579c5",
   "metadata": {},
   "outputs": [],
   "source": [
    "data['approx_cost(for two people)'] = data['approx_cost(for two people)'].apply(lambda x:x.replace(\",\",\"\"))"
   ]
  },
  {
   "cell_type": "code",
   "execution_count": 49,
   "id": "be723d3c",
   "metadata": {},
   "outputs": [
    {
     "name": "stdout",
     "output_type": "stream",
     "text": [
      "Data type for Approx cost for two people is :  int32\n"
     ]
    }
   ],
   "source": [
    "data = data.astype({\"approx_cost(for two people)\" : int})\n",
    "print(\"Data type for Approx cost for two people is : \", data['approx_cost(for two people)'].dtype)"
   ]
  },
  {
   "cell_type": "code",
   "execution_count": 50,
   "id": "e23944d7",
   "metadata": {},
   "outputs": [
    {
     "data": {
      "text/plain": [
       "<AxesSubplot:>"
      ]
     },
     "execution_count": 50,
     "metadata": {},
     "output_type": "execute_result"
    },
    {
     "data": {
      "image/png": "[encoded data removed]",
      "text/plain": [
       "<Figure size 432x288 with 2 Axes>"
      ]
     },
     "metadata": {
      "needs_background": "light"
     },
     "output_type": "display_data"
    }
   ],
   "source": [
    "correlation= data.corr()\n",
    "sns.heatmap(correlation , annot=True)"
   ]
  },
  {
   "cell_type": "code",
   "execution_count": 51,
   "id": "637fe365",
   "metadata": {},
   "outputs": [
    {
     "data": {
      "text/html": [
       "<div>\n",
       "<style scoped>\n",
       "    .dataframe tbody tr th:only-of-type {\n",
       "        vertical-align: middle;\n",
       "    }\n",
       "\n",
       "    .dataframe tbody tr th {\n",
       "        vertical-align: top;\n",
       "    }\n",
       "\n",
       "    .dataframe thead th {\n",
       "        text-align: right;\n",
       "    }\n",
       "</style>\n",
       "<table border=\"1\" class=\"dataframe\">\n",
       "  <thead>\n",
       "    <tr style=\"text-align: right;\">\n",
       "      <th></th>\n",
       "      <th>rate</th>\n",
       "      <th>approx_cost(for two people)</th>\n",
       "    </tr>\n",
       "    <tr>\n",
       "      <th>name</th>\n",
       "      <th></th>\n",
       "      <th></th>\n",
       "    </tr>\n",
       "  </thead>\n",
       "  <tbody>\n",
       "    <tr>\n",
       "      <th>Byg Brewski Brewing Company</th>\n",
       "      <td>4.900000</td>\n",
       "      <td>1600.000000</td>\n",
       "    </tr>\n",
       "    <tr>\n",
       "      <th>Asia Kitchen By Mainland China</th>\n",
       "      <td>4.900000</td>\n",
       "      <td>1500.000000</td>\n",
       "    </tr>\n",
       "    <tr>\n",
       "      <th>SantÃÂÃÂÃÂÃÂÃÂÃÂÃÂÃÂÃÂÃÂÃÂÃÂÃÂÃÂÃÂÃÂ© Spa Cuisine</th>\n",
       "      <td>4.900000</td>\n",
       "      <td>1000.000000</td>\n",
       "    </tr>\n",
       "    <tr>\n",
       "      <th>Punjab Grill</th>\n",
       "      <td>4.871429</td>\n",
       "      <td>2000.000000</td>\n",
       "    </tr>\n",
       "    <tr>\n",
       "      <th>Belgian Waffle Factory</th>\n",
       "      <td>4.844828</td>\n",
       "      <td>400.000000</td>\n",
       "    </tr>\n",
       "    <tr>\n",
       "      <th>O.G. Variar &amp; Sons</th>\n",
       "      <td>4.800000</td>\n",
       "      <td>200.000000</td>\n",
       "    </tr>\n",
       "    <tr>\n",
       "      <th>Flechazo</th>\n",
       "      <td>4.800000</td>\n",
       "      <td>1400.000000</td>\n",
       "    </tr>\n",
       "    <tr>\n",
       "      <th>The Pizza Bakery</th>\n",
       "      <td>4.800000</td>\n",
       "      <td>1200.000000</td>\n",
       "    </tr>\n",
       "    <tr>\n",
       "      <th>AB's - Absolute Barbecues</th>\n",
       "      <td>4.789474</td>\n",
       "      <td>1568.421053</td>\n",
       "    </tr>\n",
       "    <tr>\n",
       "      <th>CTR</th>\n",
       "      <td>4.750000</td>\n",
       "      <td>150.000000</td>\n",
       "    </tr>\n",
       "    <tr>\n",
       "      <th>Barbecue by Punjab Grill</th>\n",
       "      <td>4.750000</td>\n",
       "      <td>1300.000000</td>\n",
       "    </tr>\n",
       "    <tr>\n",
       "      <th>The Black Pearl</th>\n",
       "      <td>4.727778</td>\n",
       "      <td>1427.777778</td>\n",
       "    </tr>\n",
       "    <tr>\n",
       "      <th>House Of Commons</th>\n",
       "      <td>4.723810</td>\n",
       "      <td>1000.000000</td>\n",
       "    </tr>\n",
       "    <tr>\n",
       "      <th>Toit</th>\n",
       "      <td>4.700000</td>\n",
       "      <td>1500.000000</td>\n",
       "    </tr>\n",
       "    <tr>\n",
       "      <th>You Mee</th>\n",
       "      <td>4.700000</td>\n",
       "      <td>2000.000000</td>\n",
       "    </tr>\n",
       "  </tbody>\n",
       "</table>\n",
       "</div>"
      ],
      "text/plain": [
       "                                                        rate  \\\n",
       "name                                                           \n",
       "Byg Brewski Brewing Company                         4.900000   \n",
       "Asia Kitchen By Mainland China                      4.900000   \n",
       "SantÃÂÃÂÃÂÃÂÃÂÃÂÃÂÃÂÃÂÃÂÃÂ...  4.900000   \n",
       "Punjab Grill                                        4.871429   \n",
       "Belgian Waffle Factory                              4.844828   \n",
       "O.G. Variar & Sons                                  4.800000   \n",
       "Flechazo                                            4.800000   \n",
       "The Pizza Bakery                                    4.800000   \n",
       "AB's - Absolute Barbecues                           4.789474   \n",
       "CTR                                                 4.750000   \n",
       "Barbecue by Punjab Grill                            4.750000   \n",
       "The Black Pearl                                     4.727778   \n",
       "House Of Commons                                    4.723810   \n",
       "Toit                                                4.700000   \n",
       "You Mee                                             4.700000   \n",
       "\n",
       "                                                    approx_cost(for two people)  \n",
       "name                                                                             \n",
       "Byg Brewski Brewing Company                                         1600.000000  \n",
       "Asia Kitchen By Mainland China                                      1500.000000  \n",
       "SantÃÂÃÂÃÂÃÂÃÂÃÂÃÂÃÂÃÂÃÂÃÂ...                  1000.000000  \n",
       "Punjab Grill                                                        2000.000000  \n",
       "Belgian Waffle Factory                                               400.000000  \n",
       "O.G. Variar & Sons                                                   200.000000  \n",
       "Flechazo                                                            1400.000000  \n",
       "The Pizza Bakery                                                    1200.000000  \n",
       "AB's - Absolute Barbecues                                           1568.421053  \n",
       "CTR                                                                  150.000000  \n",
       "Barbecue by Punjab Grill                                            1300.000000  \n",
       "The Black Pearl                                                     1427.777778  \n",
       "House Of Commons                                                    1000.000000  \n",
       "Toit                                                                1500.000000  \n",
       "You Mee                                                             2000.000000  "
      ]
     },
     "execution_count": 51,
     "metadata": {},
     "output_type": "execute_result"
    }
   ],
   "source": [
    "data.groupby('name')['rate','approx_cost(for two people)'].mean().sort_values(by='rate', ascending=False).head(15)"
   ]
  },
  {
   "cell_type": "markdown",
   "id": "acb732d7",
   "metadata": {},
   "source": [
    "We can observe some of the top-rated restaurants are quite expensive. Punjab Grill costs 1000 per person, whereas CTR costs 75 per person.\n",
    "\n",
    "Let's see the distribution of this feature."
   ]
  },
  {
   "cell_type": "code",
   "execution_count": 52,
   "id": "2fe90575",
   "metadata": {},
   "outputs": [
    {
     "data": {
      "image/png": "[encoded data removed]",
      "text/plain": [
       "<Figure size 504x504 with 1 Axes>"
      ]
     },
     "metadata": {
      "needs_background": "light"
     },
     "output_type": "display_data"
    }
   ],
   "source": [
    "plt.figure(figsize=(7,7))\n",
    "sns.distplot(data['approx_cost(for two people)'])\n",
    "plt.show()"
   ]
  },
  {
   "cell_type": "code",
   "execution_count": 53,
   "id": "41d1d56f",
   "metadata": {},
   "outputs": [
    {
     "name": "stdout",
     "output_type": "stream",
     "text": [
      "The name of most expensive restaurent is Le Cirque Signature - The Leela Palace and it is located at Old Airport Road\n"
     ]
    }
   ],
   "source": [
    "print(\"The name of most expensive restaurent is {} and it is located at {}\".format(\n",
    "data.loc[data[\"approx_cost(for two people)\"]==data[\"approx_cost(for two people)\"].max()]['name'].unique()[0],\n",
    "data.loc[data[\"approx_cost(for two people)\"]==data[\"approx_cost(for two people)\"].max()]['location'].unique()[0]\n",
    "))"
   ]
  },
  {
   "cell_type": "code",
   "execution_count": 54,
   "id": "0f2f847b",
   "metadata": {},
   "outputs": [
    {
     "data": {
      "text/plain": [
       "array([6000, 5000, 4500, 4100, 4000])"
      ]
     },
     "execution_count": 54,
     "metadata": {},
     "output_type": "execute_result"
    }
   ],
   "source": [
    "data['approx_cost(for two people)'].sort_values(ascending=False).head(15).unique()"
   ]
  },
  {
   "cell_type": "markdown",
   "id": "5b8f8131",
   "metadata": {},
   "source": [
    "Top 15 restaurants cost ran range from 4000 to 6000 Rupees for two people"
   ]
  },
  {
   "cell_type": "markdown",
   "id": "05f9c4c5",
   "metadata": {},
   "source": [
    "# Location"
   ]
  },
  {
   "cell_type": "code",
   "execution_count": 55,
   "id": "31a72de0",
   "metadata": {},
   "outputs": [
    {
     "data": {
      "text/plain": [
       "location\n",
       "St. Marks Road           4.017201\n",
       "Lavelle Road             4.009943\n",
       "Church Street            3.931810\n",
       "Sankey Road              3.911111\n",
       "Koramangala 5th Block    3.896610\n",
       "Koramangala 3rd Block    3.857009\n",
       "Cunningham Road          3.855397\n",
       "Rajarajeshwari Nagar     3.850000\n",
       "Langford Town            3.807407\n",
       "Race Course Road         3.745324\n",
       "Name: rate, dtype: float64"
      ]
     },
     "execution_count": 55,
     "metadata": {},
     "output_type": "execute_result"
    }
   ],
   "source": [
    "data.groupby('location')['rate'].mean().sort_values(ascending = False).head(10)"
   ]
  },
  {
   "cell_type": "markdown",
   "id": "4f3afaf9",
   "metadata": {},
   "source": [
    "The above 10 locations have the best average ratings. These are the paces you must visit if you are a food lover."
   ]
  },
  {
   "cell_type": "markdown",
   "id": "452db9ea",
   "metadata": {},
   "source": [
    "# Cuisines"
   ]
  },
  {
   "cell_type": "code",
   "execution_count": 56,
   "id": "e3aed95c",
   "metadata": {},
   "outputs": [
    {
     "data": {
      "text/plain": [
       "array(['North Indian, Mughlai, Chinese', 'Chinese, North Indian, Thai',\n",
       "       'Cafe, Mexican, Italian', ...,\n",
       "       'North Indian, Street Food, Biryani', 'Chinese, Mughlai',\n",
       "       'North Indian, Chinese, Arabian, Momos'], dtype=object)"
      ]
     },
     "execution_count": 56,
     "metadata": {},
     "output_type": "execute_result"
    }
   ],
   "source": [
    "data['cuisines'].unique()"
   ]
  },
  {
   "cell_type": "markdown",
   "id": "28276c7d",
   "metadata": {},
   "source": [
    "In order to analyse the cuisine column, let's make a new column called 'Number_of_cuisines_offered'."
   ]
  },
  {
   "cell_type": "code",
   "execution_count": 57,
   "id": "7b3cade0",
   "metadata": {},
   "outputs": [
    {
     "data": {
      "text/plain": [
       "2"
      ]
     },
     "execution_count": 57,
     "metadata": {},
     "output_type": "execute_result"
    }
   ],
   "source": [
    "len(data['cuisines'][4].split(','))"
   ]
  },
  {
   "cell_type": "code",
   "execution_count": 58,
   "id": "dea16393",
   "metadata": {},
   "outputs": [],
   "source": [
    "data['Number_of_cuisines_offered'] = data['cuisines'].apply(lambda x : len(x.split(',')))"
   ]
  },
  {
   "cell_type": "code",
   "execution_count": 59,
   "id": "3a458e88",
   "metadata": {},
   "outputs": [
    {
     "data": {
      "text/html": [
       "<div>\n",
       "<style scoped>\n",
       "    .dataframe tbody tr th:only-of-type {\n",
       "        vertical-align: middle;\n",
       "    }\n",
       "\n",
       "    .dataframe tbody tr th {\n",
       "        vertical-align: top;\n",
       "    }\n",
       "\n",
       "    .dataframe thead th {\n",
       "        text-align: right;\n",
       "    }\n",
       "</style>\n",
       "<table border=\"1\" class=\"dataframe\">\n",
       "  <thead>\n",
       "    <tr style=\"text-align: right;\">\n",
       "      <th></th>\n",
       "      <th>online_order</th>\n",
       "      <th>book_table</th>\n",
       "      <th>rate</th>\n",
       "      <th>votes</th>\n",
       "      <th>approx_cost(for two people)</th>\n",
       "      <th>Number_of_cuisines_offered</th>\n",
       "    </tr>\n",
       "  </thead>\n",
       "  <tbody>\n",
       "    <tr>\n",
       "      <th>online_order</th>\n",
       "      <td>1.000000</td>\n",
       "      <td>-0.002504</td>\n",
       "      <td>0.242004</td>\n",
       "      <td>0.034114</td>\n",
       "      <td>-0.084069</td>\n",
       "      <td>0.106474</td>\n",
       "    </tr>\n",
       "    <tr>\n",
       "      <th>book_table</th>\n",
       "      <td>-0.002504</td>\n",
       "      <td>1.000000</td>\n",
       "      <td>0.391537</td>\n",
       "      <td>0.405981</td>\n",
       "      <td>0.618064</td>\n",
       "      <td>0.263471</td>\n",
       "    </tr>\n",
       "    <tr>\n",
       "      <th>rate</th>\n",
       "      <td>0.242004</td>\n",
       "      <td>0.391537</td>\n",
       "      <td>1.000000</td>\n",
       "      <td>0.406135</td>\n",
       "      <td>0.404836</td>\n",
       "      <td>0.247356</td>\n",
       "    </tr>\n",
       "    <tr>\n",
       "      <th>votes</th>\n",
       "      <td>0.034114</td>\n",
       "      <td>0.405981</td>\n",
       "      <td>0.406135</td>\n",
       "      <td>1.000000</td>\n",
       "      <td>0.381563</td>\n",
       "      <td>0.231998</td>\n",
       "    </tr>\n",
       "    <tr>\n",
       "      <th>approx_cost(for two people)</th>\n",
       "      <td>-0.084069</td>\n",
       "      <td>0.618064</td>\n",
       "      <td>0.404836</td>\n",
       "      <td>0.381563</td>\n",
       "      <td>1.000000</td>\n",
       "      <td>0.268651</td>\n",
       "    </tr>\n",
       "    <tr>\n",
       "      <th>Number_of_cuisines_offered</th>\n",
       "      <td>0.106474</td>\n",
       "      <td>0.263471</td>\n",
       "      <td>0.247356</td>\n",
       "      <td>0.231998</td>\n",
       "      <td>0.268651</td>\n",
       "      <td>1.000000</td>\n",
       "    </tr>\n",
       "  </tbody>\n",
       "</table>\n",
       "</div>"
      ],
      "text/plain": [
       "                             online_order  book_table      rate     votes  \\\n",
       "online_order                     1.000000   -0.002504  0.242004  0.034114   \n",
       "book_table                      -0.002504    1.000000  0.391537  0.405981   \n",
       "rate                             0.242004    0.391537  1.000000  0.406135   \n",
       "votes                            0.034114    0.405981  0.406135  1.000000   \n",
       "approx_cost(for two people)     -0.084069    0.618064  0.404836  0.381563   \n",
       "Number_of_cuisines_offered       0.106474    0.263471  0.247356  0.231998   \n",
       "\n",
       "                             approx_cost(for two people)  \\\n",
       "online_order                                   -0.084069   \n",
       "book_table                                      0.618064   \n",
       "rate                                            0.404836   \n",
       "votes                                           0.381563   \n",
       "approx_cost(for two people)                     1.000000   \n",
       "Number_of_cuisines_offered                      0.268651   \n",
       "\n",
       "                             Number_of_cuisines_offered  \n",
       "online_order                                   0.106474  \n",
       "book_table                                     0.263471  \n",
       "rate                                           0.247356  \n",
       "votes                                          0.231998  \n",
       "approx_cost(for two people)                    0.268651  \n",
       "Number_of_cuisines_offered                     1.000000  "
      ]
     },
     "execution_count": 59,
     "metadata": {},
     "output_type": "execute_result"
    }
   ],
   "source": [
    "data.corr()"
   ]
  },
  {
   "cell_type": "code",
   "execution_count": 60,
   "id": "14642996",
   "metadata": {},
   "outputs": [
    {
     "data": {
      "text/html": [
       "<div>\n",
       "<style scoped>\n",
       "    .dataframe tbody tr th:only-of-type {\n",
       "        vertical-align: middle;\n",
       "    }\n",
       "\n",
       "    .dataframe tbody tr th {\n",
       "        vertical-align: top;\n",
       "    }\n",
       "\n",
       "    .dataframe thead th {\n",
       "        text-align: right;\n",
       "    }\n",
       "</style>\n",
       "<table border=\"1\" class=\"dataframe\">\n",
       "  <thead>\n",
       "    <tr style=\"text-align: right;\">\n",
       "      <th></th>\n",
       "      <th>rate</th>\n",
       "    </tr>\n",
       "  </thead>\n",
       "  <tbody>\n",
       "    <tr>\n",
       "      <th>rate</th>\n",
       "      <td>1.000000</td>\n",
       "    </tr>\n",
       "    <tr>\n",
       "      <th>votes</th>\n",
       "      <td>0.406135</td>\n",
       "    </tr>\n",
       "    <tr>\n",
       "      <th>approx_cost(for two people)</th>\n",
       "      <td>0.404836</td>\n",
       "    </tr>\n",
       "    <tr>\n",
       "      <th>book_table</th>\n",
       "      <td>0.391537</td>\n",
       "    </tr>\n",
       "    <tr>\n",
       "      <th>Number_of_cuisines_offered</th>\n",
       "      <td>0.247356</td>\n",
       "    </tr>\n",
       "    <tr>\n",
       "      <th>online_order</th>\n",
       "      <td>0.242004</td>\n",
       "    </tr>\n",
       "  </tbody>\n",
       "</table>\n",
       "</div>"
      ],
      "text/plain": [
       "                                 rate\n",
       "rate                         1.000000\n",
       "votes                        0.406135\n",
       "approx_cost(for two people)  0.404836\n",
       "book_table                   0.391537\n",
       "Number_of_cuisines_offered   0.247356\n",
       "online_order                 0.242004"
      ]
     },
     "execution_count": 60,
     "metadata": {},
     "output_type": "execute_result"
    }
   ],
   "source": [
    "correlation = data.corr()['rate'].sort_values(ascending = False).to_frame().head(10)\n",
    "correlation"
   ]
  },
  {
   "cell_type": "markdown",
   "id": "6bc3aeea",
   "metadata": {},
   "source": [
    "Number of cuisines offered have very little correlation with the rating."
   ]
  },
  {
   "cell_type": "code",
   "execution_count": 61,
   "id": "8ec2be62",
   "metadata": {},
   "outputs": [
    {
     "data": {
      "image/png": "[encoded data removed]",
      "text/plain": [
       "<Figure size 576x576 with 1 Axes>"
      ]
     },
     "metadata": {},
     "output_type": "display_data"
    }
   ],
   "source": [
    "labels = data['listed_in(type)'].value_counts().index\n",
    "values = data['listed_in(type)'].value_counts().values\n",
    "\n",
    "explode = (0.1,0.1,0.1,0.1,0.1,0.1,0.1)\n",
    "fig , ax = plt.subplots(figsize=(8,8))\n",
    "\n",
    "ax.pie(values , labels=labels ,shadow=True ,startangle=90 , explode=explode ,rotatelabels=True )\n",
    "center_circle=plt.Circle((0,0),0.70,fc ='white')\n",
    "\n",
    "fig=plt.gcf()\n",
    "fig.gca().add_artist(center_circle)\n",
    "ax.axis('equal')\n",
    "plt.show()"
   ]
  },
  {
   "cell_type": "markdown",
   "id": "e050bf18",
   "metadata": {},
   "source": [
    "Majority of the restaurants Delivers the food to the homes, very less proportion are pubs and bars or Drinks & nightlife."
   ]
  },
  {
   "cell_type": "code",
   "execution_count": 62,
   "id": "0df18141",
   "metadata": {},
   "outputs": [
    {
     "data": {
      "image/png": "[encoded data removed]",
      "text/plain": [
       "<Figure size 576x576 with 1 Axes>"
      ]
     },
     "metadata": {
      "needs_background": "light"
     },
     "output_type": "display_data"
    }
   ],
   "source": [
    "plt.figure(figsize = (8, 8))\n",
    "g = sns.boxplot(x = 'listed_in(type)', y = 'rate', data = data)\n",
    "plt.xticks(rotation = 90)\n",
    "plt.show()"
   ]
  },
  {
   "cell_type": "markdown",
   "id": "f9b63548",
   "metadata": {},
   "source": [
    "Majority of the Restaurants of type 'Drinks & nightlife' and 'Pubs and bars' have a high median rating. The median value of these kind of restaurants is greater than the 75th Percentile value of rest of the restaurant types except that of 'Buffet' type. The IQR is highest for 'Desserts' category which indicates large amount of variation about median."
   ]
  },
  {
   "cell_type": "markdown",
   "id": "06a7977e",
   "metadata": {},
   "source": [
    "# MODELS "
   ]
  },
  {
   "cell_type": "code",
   "execution_count": 63,
   "id": "9c1627e7",
   "metadata": {},
   "outputs": [
    {
     "data": {
      "text/html": [
       "<div>\n",
       "<style scoped>\n",
       "    .dataframe tbody tr th:only-of-type {\n",
       "        vertical-align: middle;\n",
       "    }\n",
       "\n",
       "    .dataframe tbody tr th {\n",
       "        vertical-align: top;\n",
       "    }\n",
       "\n",
       "    .dataframe thead th {\n",
       "        text-align: right;\n",
       "    }\n",
       "</style>\n",
       "<table border=\"1\" class=\"dataframe\">\n",
       "  <thead>\n",
       "    <tr style=\"text-align: right;\">\n",
       "      <th></th>\n",
       "      <th>name</th>\n",
       "      <th>online_order</th>\n",
       "      <th>book_table</th>\n",
       "      <th>rate</th>\n",
       "      <th>votes</th>\n",
       "      <th>location</th>\n",
       "      <th>rest_type</th>\n",
       "      <th>cuisines</th>\n",
       "      <th>approx_cost(for two people)</th>\n",
       "      <th>reviews_list</th>\n",
       "      <th>menu_item</th>\n",
       "      <th>listed_in(type)</th>\n",
       "      <th>Number_of_cuisines_offered</th>\n",
       "    </tr>\n",
       "  </thead>\n",
       "  <tbody>\n",
       "    <tr>\n",
       "      <th>0</th>\n",
       "      <td>0</td>\n",
       "      <td>0</td>\n",
       "      <td>0</td>\n",
       "      <td>4.1</td>\n",
       "      <td>775</td>\n",
       "      <td>0</td>\n",
       "      <td>0</td>\n",
       "      <td>0</td>\n",
       "      <td>0</td>\n",
       "      <td>0</td>\n",
       "      <td>0</td>\n",
       "      <td>0</td>\n",
       "      <td>0</td>\n",
       "    </tr>\n",
       "    <tr>\n",
       "      <th>1</th>\n",
       "      <td>1</td>\n",
       "      <td>0</td>\n",
       "      <td>1</td>\n",
       "      <td>4.1</td>\n",
       "      <td>787</td>\n",
       "      <td>0</td>\n",
       "      <td>0</td>\n",
       "      <td>1</td>\n",
       "      <td>0</td>\n",
       "      <td>1</td>\n",
       "      <td>0</td>\n",
       "      <td>0</td>\n",
       "      <td>0</td>\n",
       "    </tr>\n",
       "    <tr>\n",
       "      <th>2</th>\n",
       "      <td>2</td>\n",
       "      <td>0</td>\n",
       "      <td>1</td>\n",
       "      <td>3.8</td>\n",
       "      <td>918</td>\n",
       "      <td>0</td>\n",
       "      <td>1</td>\n",
       "      <td>2</td>\n",
       "      <td>0</td>\n",
       "      <td>2</td>\n",
       "      <td>0</td>\n",
       "      <td>0</td>\n",
       "      <td>0</td>\n",
       "    </tr>\n",
       "    <tr>\n",
       "      <th>3</th>\n",
       "      <td>3</td>\n",
       "      <td>1</td>\n",
       "      <td>1</td>\n",
       "      <td>3.7</td>\n",
       "      <td>88</td>\n",
       "      <td>0</td>\n",
       "      <td>2</td>\n",
       "      <td>3</td>\n",
       "      <td>1</td>\n",
       "      <td>3</td>\n",
       "      <td>0</td>\n",
       "      <td>0</td>\n",
       "      <td>1</td>\n",
       "    </tr>\n",
       "    <tr>\n",
       "      <th>4</th>\n",
       "      <td>4</td>\n",
       "      <td>1</td>\n",
       "      <td>1</td>\n",
       "      <td>3.8</td>\n",
       "      <td>166</td>\n",
       "      <td>1</td>\n",
       "      <td>0</td>\n",
       "      <td>4</td>\n",
       "      <td>2</td>\n",
       "      <td>4</td>\n",
       "      <td>0</td>\n",
       "      <td>0</td>\n",
       "      <td>1</td>\n",
       "    </tr>\n",
       "  </tbody>\n",
       "</table>\n",
       "</div>"
      ],
      "text/plain": [
       "   name  online_order  book_table  rate  votes  location  rest_type  cuisines  \\\n",
       "0     0             0           0   4.1    775         0          0         0   \n",
       "1     1             0           1   4.1    787         0          0         1   \n",
       "2     2             0           1   3.8    918         0          1         2   \n",
       "3     3             1           1   3.7     88         0          2         3   \n",
       "4     4             1           1   3.8    166         1          0         4   \n",
       "\n",
       "   approx_cost(for two people)  reviews_list  menu_item  listed_in(type)  \\\n",
       "0                            0             0          0                0   \n",
       "1                            0             1          0                0   \n",
       "2                            0             2          0                0   \n",
       "3                            1             3          0                0   \n",
       "4                            2             4          0                0   \n",
       "\n",
       "   Number_of_cuisines_offered  \n",
       "0                           0  \n",
       "1                           0  \n",
       "2                           0  \n",
       "3                           1  \n",
       "4                           1  "
      ]
     },
     "execution_count": 63,
     "metadata": {},
     "output_type": "execute_result"
    }
   ],
   "source": [
    "#Encode the input Variables\n",
    "def Encode(data):\n",
    "    for column in data.columns[~data.columns.isin(['rate', 'cost', 'votes'])]:\n",
    "        data[column] = data[column].factorize()[0]\n",
    "    return data\n",
    "\n",
    "zomato_en = Encode(data.copy())\n",
    "zomato_en.head()"
   ]
  },
  {
   "cell_type": "code",
   "execution_count": 64,
   "id": "1807df21",
   "metadata": {},
   "outputs": [
    {
     "data": {
      "text/html": [
       "<div>\n",
       "<style scoped>\n",
       "    .dataframe tbody tr th:only-of-type {\n",
       "        vertical-align: middle;\n",
       "    }\n",
       "\n",
       "    .dataframe tbody tr th {\n",
       "        vertical-align: top;\n",
       "    }\n",
       "\n",
       "    .dataframe thead th {\n",
       "        text-align: right;\n",
       "    }\n",
       "</style>\n",
       "<table border=\"1\" class=\"dataframe\">\n",
       "  <thead>\n",
       "    <tr style=\"text-align: right;\">\n",
       "      <th></th>\n",
       "      <th>online_order</th>\n",
       "      <th>book_table</th>\n",
       "      <th>votes</th>\n",
       "      <th>location</th>\n",
       "      <th>rest_type</th>\n",
       "      <th>cuisines</th>\n",
       "      <th>approx_cost(for two people)</th>\n",
       "      <th>menu_item</th>\n",
       "    </tr>\n",
       "  </thead>\n",
       "  <tbody>\n",
       "    <tr>\n",
       "      <th>14566</th>\n",
       "      <td>1</td>\n",
       "      <td>0</td>\n",
       "      <td>410</td>\n",
       "      <td>17</td>\n",
       "      <td>17</td>\n",
       "      <td>724</td>\n",
       "      <td>20</td>\n",
       "      <td>0</td>\n",
       "    </tr>\n",
       "    <tr>\n",
       "      <th>21150</th>\n",
       "      <td>1</td>\n",
       "      <td>1</td>\n",
       "      <td>33</td>\n",
       "      <td>3</td>\n",
       "      <td>0</td>\n",
       "      <td>279</td>\n",
       "      <td>5</td>\n",
       "      <td>0</td>\n",
       "    </tr>\n",
       "    <tr>\n",
       "      <th>7258</th>\n",
       "      <td>1</td>\n",
       "      <td>1</td>\n",
       "      <td>0</td>\n",
       "      <td>30</td>\n",
       "      <td>2</td>\n",
       "      <td>38</td>\n",
       "      <td>17</td>\n",
       "      <td>0</td>\n",
       "    </tr>\n",
       "    <tr>\n",
       "      <th>19921</th>\n",
       "      <td>0</td>\n",
       "      <td>1</td>\n",
       "      <td>99</td>\n",
       "      <td>12</td>\n",
       "      <td>2</td>\n",
       "      <td>3</td>\n",
       "      <td>1</td>\n",
       "      <td>3316</td>\n",
       "    </tr>\n",
       "    <tr>\n",
       "      <th>23847</th>\n",
       "      <td>1</td>\n",
       "      <td>0</td>\n",
       "      <td>151</td>\n",
       "      <td>3</td>\n",
       "      <td>35</td>\n",
       "      <td>2149</td>\n",
       "      <td>34</td>\n",
       "      <td>0</td>\n",
       "    </tr>\n",
       "  </tbody>\n",
       "</table>\n",
       "</div>"
      ],
      "text/plain": [
       "       online_order  book_table  votes  location  rest_type  cuisines  \\\n",
       "14566             1           0    410        17         17       724   \n",
       "21150             1           1     33         3          0       279   \n",
       "7258              1           1      0        30          2        38   \n",
       "19921             0           1     99        12          2         3   \n",
       "23847             1           0    151         3         35      2149   \n",
       "\n",
       "       approx_cost(for two people)  menu_item  \n",
       "14566                           20          0  \n",
       "21150                            5          0  \n",
       "7258                            17          0  \n",
       "19921                            1       3316  \n",
       "23847                           34          0  "
      ]
     },
     "execution_count": 64,
     "metadata": {},
     "output_type": "execute_result"
    }
   ],
   "source": [
    "from sklearn.model_selection import train_test_split\n",
    "\n",
    "x = zomato_en.iloc[:,[1,2,4,5,6,7,8,10]] \n",
    "y = zomato_en['rate']\n",
    "#Getting Test and Training Set\n",
    "x_train,x_test,y_train,y_test=train_test_split(x,y,test_size=.1,random_state=353)\n",
    "x_train.head()"
   ]
  },
  {
   "cell_type": "markdown",
   "id": "0ba0d03b",
   "metadata": {},
   "source": [
    "**1.Linear Regression**"
   ]
  },
  {
   "cell_type": "code",
   "execution_count": 65,
   "id": "9b6e6535",
   "metadata": {},
   "outputs": [
    {
     "data": {
      "text/plain": [
       "0.2934613468548809"
      ]
     },
     "execution_count": 65,
     "metadata": {},
     "output_type": "execute_result"
    }
   ],
   "source": [
    "#Prepare a Linear Regression Model\n",
    "from sklearn.linear_model import LinearRegression\n",
    "reg=LinearRegression()\n",
    "reg.fit(x_train,y_train)\n",
    "y_pred=reg.predict(x_test) \n",
    "\n",
    "from sklearn.metrics import r2_score\n",
    "r2_score(y_test,y_pred)"
   ]
  },
  {
   "cell_type": "markdown",
   "id": "81e61e4c",
   "metadata": {},
   "source": [
    "**2.LASSO REGRESSION**"
   ]
  },
  {
   "cell_type": "code",
   "execution_count": 66,
   "id": "f38d8704",
   "metadata": {},
   "outputs": [
    {
     "data": {
      "text/plain": [
       "LassoCV(cv=10, max_iter=10000, normalize=True)"
      ]
     },
     "execution_count": 66,
     "metadata": {},
     "output_type": "execute_result"
    }
   ],
   "source": [
    "from sklearn.linear_model import Lasso, LassoCV\n",
    "lassocv = LassoCV(alphas = None, cv = 10, max_iter = 10000, normalize = True)\n",
    "lassocv.fit(x_train, y_train)"
   ]
  },
  {
   "cell_type": "code",
   "execution_count": 67,
   "id": "9bcb2ff9",
   "metadata": {},
   "outputs": [
    {
     "data": {
      "text/plain": [
       "0.29346119320434694"
      ]
     },
     "execution_count": 67,
     "metadata": {},
     "output_type": "execute_result"
    }
   ],
   "source": [
    "lasso = Lasso(alpha = lassocv.alpha_)\n",
    "lasso.fit(x_train, y_train)\n",
    "\n",
    "r2_score(y_test,lasso.predict(x_test))"
   ]
  },
  {
   "cell_type": "markdown",
   "id": "98c2a543",
   "metadata": {},
   "source": [
    "**3.Decision TreeRegressor**"
   ]
  },
  {
   "cell_type": "code",
   "execution_count": 68,
   "id": "357d8e0b",
   "metadata": {},
   "outputs": [
    {
     "data": {
      "text/plain": [
       "0.9186463766565646"
      ]
     },
     "execution_count": 68,
     "metadata": {},
     "output_type": "execute_result"
    }
   ],
   "source": [
    "from sklearn.tree import DecisionTreeRegressor\n",
    "\n",
    "\n",
    "DTree=DecisionTreeRegressor(min_samples_leaf=.0001)\n",
    "DTree.fit(x_train,y_train)\n",
    "y_predict=DTree.predict(x_test)\n",
    "\n",
    "from sklearn.metrics import r2_score\n",
    "r2_score(y_test,y_predict)"
   ]
  },
  {
   "cell_type": "markdown",
   "id": "7c75eae6",
   "metadata": {},
   "source": [
    "**4.Random Forest Regressor**"
   ]
  },
  {
   "cell_type": "code",
   "execution_count": 69,
   "id": "0a1245a1",
   "metadata": {},
   "outputs": [
    {
     "data": {
      "text/plain": [
       "0.9417583162263621"
      ]
     },
     "execution_count": 69,
     "metadata": {},
     "output_type": "execute_result"
    }
   ],
   "source": [
    "#Preparing Random Forest Regression\n",
    "from sklearn.ensemble import RandomForestRegressor\n",
    "RForest=RandomForestRegressor(n_estimators=500,random_state=329,min_samples_leaf=.0001)\n",
    "RForest.fit(x_train,y_train)\n",
    "y_predict=RForest.predict(x_test)\n",
    "\n",
    "r2_score(y_test,y_predict)"
   ]
  },
  {
   "cell_type": "markdown",
   "id": "4e9186dd",
   "metadata": {},
   "source": [
    "**5.Gradient Boosting Regressor**"
   ]
  },
  {
   "cell_type": "code",
   "execution_count": 70,
   "id": "fd889fcb",
   "metadata": {},
   "outputs": [
    {
     "data": {
      "text/plain": [
       "0.7950949162635975"
      ]
     },
     "execution_count": 70,
     "metadata": {},
     "output_type": "execute_result"
    }
   ],
   "source": [
    "from sklearn.ensemble import GradientBoostingRegressor\n",
    "\n",
    "gbr = GradientBoostingRegressor()\n",
    "gbr.fit(x_train, y_train)\n",
    "\n",
    "y_predict=gbr.predict(x_test)\n",
    "\n",
    "r2_score(y_test,y_predict)"
   ]
  },
  {
   "cell_type": "markdown",
   "id": "c7b1b990",
   "metadata": {},
   "source": [
    "**6.XGB Regressor**"
   ]
  },
  {
   "cell_type": "code",
   "execution_count": 71,
   "id": "1b20e744",
   "metadata": {},
   "outputs": [
    {
     "data": {
      "text/plain": [
       "0.8963328586459267"
      ]
     },
     "execution_count": 71,
     "metadata": {},
     "output_type": "execute_result"
    }
   ],
   "source": [
    "from xgboost import XGBRegressor\n",
    "\n",
    "xgb = XGBRegressor(booster = 'gbtree', learning_rate = 0.1, max_depth = 7, n_estimators = 200)\n",
    "xgb.fit(x_train, y_train)\n",
    "y_predict=xgb.predict(x_test)\n",
    "\n",
    "r2_score(y_test,y_predict)"
   ]
  },
  {
   "cell_type": "code",
   "execution_count": 72,
   "id": "6cc58f76",
   "metadata": {},
   "outputs": [
    {
     "data": {
      "text/html": [
       "<div>\n",
       "<style scoped>\n",
       "    .dataframe tbody tr th:only-of-type {\n",
       "        vertical-align: middle;\n",
       "    }\n",
       "\n",
       "    .dataframe tbody tr th {\n",
       "        vertical-align: top;\n",
       "    }\n",
       "\n",
       "    .dataframe thead th {\n",
       "        text-align: right;\n",
       "    }\n",
       "</style>\n",
       "<table border=\"1\" class=\"dataframe\">\n",
       "  <thead>\n",
       "    <tr style=\"text-align: right;\">\n",
       "      <th></th>\n",
       "      <th>Model</th>\n",
       "      <th>Score</th>\n",
       "    </tr>\n",
       "  </thead>\n",
       "  <tbody>\n",
       "    <tr>\n",
       "      <th>3</th>\n",
       "      <td>Random Forest</td>\n",
       "      <td>0.941758</td>\n",
       "    </tr>\n",
       "    <tr>\n",
       "      <th>2</th>\n",
       "      <td>Decision Tree</td>\n",
       "      <td>0.918646</td>\n",
       "    </tr>\n",
       "    <tr>\n",
       "      <th>5</th>\n",
       "      <td>XgBoost</td>\n",
       "      <td>0.896333</td>\n",
       "    </tr>\n",
       "    <tr>\n",
       "      <th>4</th>\n",
       "      <td>Gradient Boost</td>\n",
       "      <td>0.795095</td>\n",
       "    </tr>\n",
       "    <tr>\n",
       "      <th>0</th>\n",
       "      <td>Linear Regression</td>\n",
       "      <td>0.293461</td>\n",
       "    </tr>\n",
       "    <tr>\n",
       "      <th>1</th>\n",
       "      <td>Lasso Regression</td>\n",
       "      <td>0.293461</td>\n",
       "    </tr>\n",
       "  </tbody>\n",
       "</table>\n",
       "</div>"
      ],
      "text/plain": [
       "               Model     Score\n",
       "3      Random Forest  0.941758\n",
       "2      Decision Tree  0.918646\n",
       "5            XgBoost  0.896333\n",
       "4     Gradient Boost  0.795095\n",
       "0  Linear Regression  0.293461\n",
       "1   Lasso Regression  0.293461"
      ]
     },
     "execution_count": 72,
     "metadata": {},
     "output_type": "execute_result"
    }
   ],
   "source": [
    "\n",
    "models = pd.DataFrame({\n",
    "    'Model' : ['Linear Regression', 'Lasso Regression', 'Decision Tree', 'Random Forest', 'Gradient Boost', 'XgBoost'],\n",
    "    'Score' : [reg.score(x_test, y_test), lasso.score(x_test, y_test), DTree.score(x_test, y_test), RForest.score(x_test, y_test),\n",
    "               gbr.score(x_test, y_test), xgb.score(x_test, y_test)]\n",
    "})\n",
    "\n",
    "\n",
    "models.sort_values(by = 'Score', ascending = False)"
   ]
  },
  {
   "cell_type": "code",
   "execution_count": null,
   "id": "7746e1b7",
   "metadata": {},
   "outputs": [],
   "source": []
  }
 ],
 "metadata": {
  "kernelspec": {
   "display_name": "Python 3 (ipykernel)",
   "language": "python",
   "name": "python3"
  },
  "language_info": {
   "codemirror_mode": {
    "name": "ipython",
    "version": 3
   },
   "file_extension": ".py",
   "mimetype": "text/x-python",
   "name": "python",
   "nbconvert_exporter": "python",
   "pygments_lexer": "ipython3",
   "version": "3.9.12"
  }
 },
 "nbformat": 4,
 "nbformat_minor": 5
}
